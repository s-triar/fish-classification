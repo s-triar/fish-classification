{
 "cells": [
  {
   "cell_type": "code",
   "execution_count": 1,
   "metadata": {},
   "outputs": [],
   "source": [
    "import os"
   ]
  },
  {
   "cell_type": "markdown",
   "metadata": {},
   "source": []
  },
  {
   "cell_type": "code",
   "execution_count": 2,
   "metadata": {},
   "outputs": [],
   "source": [
    "import pandas as pd\n",
    "import numpy as np"
   ]
  },
  {
   "cell_type": "code",
   "execution_count": 16,
   "metadata": {},
   "outputs": [],
   "source": [
    "METHODS = ['default', 'ror','uniform','nri_uniform','var']\n",
    "DATA_LBP_PATH = 'dataset/fish_data_lbp/resize/'\n",
    "DATA_HOG_PATH = 'dataset/fish_data_hog'\n",
    "DATA_HL_PATH = 'dataset/fish_data_houghline'\n",
    "METHOD_INDEX = 0\n"
   ]
  },
  {
   "cell_type": "code",
   "execution_count": 18,
   "metadata": {},
   "outputs": [
    {
     "data": {
      "text/html": [
       "<div>\n",
       "<style scoped>\n",
       "    .dataframe tbody tr th:only-of-type {\n",
       "        vertical-align: middle;\n",
       "    }\n",
       "\n",
       "    .dataframe tbody tr th {\n",
       "        vertical-align: top;\n",
       "    }\n",
       "\n",
       "    .dataframe thead th {\n",
       "        text-align: right;\n",
       "    }\n",
       "</style>\n",
       "<table border=\"1\" class=\"dataframe\">\n",
       "  <thead>\n",
       "    <tr style=\"text-align: right;\">\n",
       "      <th></th>\n",
       "      <th>0</th>\n",
       "      <th>1</th>\n",
       "      <th>2</th>\n",
       "      <th>3</th>\n",
       "      <th>4</th>\n",
       "      <th>5</th>\n",
       "      <th>6</th>\n",
       "      <th>7</th>\n",
       "      <th>8</th>\n",
       "      <th>9</th>\n",
       "      <th>...</th>\n",
       "      <th>250</th>\n",
       "      <th>251</th>\n",
       "      <th>252</th>\n",
       "      <th>253</th>\n",
       "      <th>254</th>\n",
       "      <th>255</th>\n",
       "      <th>256</th>\n",
       "      <th>257</th>\n",
       "      <th>258</th>\n",
       "      <th>259</th>\n",
       "    </tr>\n",
       "  </thead>\n",
       "  <tbody>\n",
       "    <tr>\n",
       "      <th>0</th>\n",
       "      <td>1</td>\n",
       "      <td>A73EGS-P</td>\n",
       "      <td>1</td>\n",
       "      <td>0.029996</td>\n",
       "      <td>0.051033</td>\n",
       "      <td>0.004477</td>\n",
       "      <td>0.001441</td>\n",
       "      <td>0.004401</td>\n",
       "      <td>0.037168</td>\n",
       "      <td>0.002105</td>\n",
       "      <td>...</td>\n",
       "      <td>0.000191</td>\n",
       "      <td>0.004796</td>\n",
       "      <td>0.009656</td>\n",
       "      <td>0.009222</td>\n",
       "      <td>0.000867</td>\n",
       "      <td>0.033776</td>\n",
       "      <td>0.005344</td>\n",
       "      <td>0.004043</td>\n",
       "      <td>0.003010</td>\n",
       "      <td>0.276747</td>\n",
       "    </tr>\n",
       "    <tr>\n",
       "      <th>1</th>\n",
       "      <td>2</td>\n",
       "      <td>A73EGS-P</td>\n",
       "      <td>2</td>\n",
       "      <td>0.032996</td>\n",
       "      <td>0.054222</td>\n",
       "      <td>0.006582</td>\n",
       "      <td>0.000778</td>\n",
       "      <td>0.002003</td>\n",
       "      <td>0.015242</td>\n",
       "      <td>0.002207</td>\n",
       "      <td>...</td>\n",
       "      <td>0.000408</td>\n",
       "      <td>0.005791</td>\n",
       "      <td>0.001633</td>\n",
       "      <td>0.002640</td>\n",
       "      <td>0.000931</td>\n",
       "      <td>0.022054</td>\n",
       "      <td>0.002513</td>\n",
       "      <td>0.005867</td>\n",
       "      <td>0.003992</td>\n",
       "      <td>0.522372</td>\n",
       "    </tr>\n",
       "    <tr>\n",
       "      <th>2</th>\n",
       "      <td>3</td>\n",
       "      <td>A73EGS-P</td>\n",
       "      <td>3</td>\n",
       "      <td>0.030999</td>\n",
       "      <td>0.032615</td>\n",
       "      <td>0.003571</td>\n",
       "      <td>0.001173</td>\n",
       "      <td>0.002704</td>\n",
       "      <td>0.033903</td>\n",
       "      <td>0.002092</td>\n",
       "      <td>...</td>\n",
       "      <td>0.000102</td>\n",
       "      <td>0.005651</td>\n",
       "      <td>0.007015</td>\n",
       "      <td>0.006849</td>\n",
       "      <td>0.000676</td>\n",
       "      <td>0.032474</td>\n",
       "      <td>0.004209</td>\n",
       "      <td>0.005332</td>\n",
       "      <td>0.001901</td>\n",
       "      <td>0.317360</td>\n",
       "    </tr>\n",
       "    <tr>\n",
       "      <th>3</th>\n",
       "      <td>4</td>\n",
       "      <td>A73EGS-P</td>\n",
       "      <td>4</td>\n",
       "      <td>0.032999</td>\n",
       "      <td>0.060166</td>\n",
       "      <td>0.008686</td>\n",
       "      <td>0.001952</td>\n",
       "      <td>0.004936</td>\n",
       "      <td>0.032615</td>\n",
       "      <td>0.002232</td>\n",
       "      <td>...</td>\n",
       "      <td>0.000230</td>\n",
       "      <td>0.011824</td>\n",
       "      <td>0.008865</td>\n",
       "      <td>0.012985</td>\n",
       "      <td>0.000931</td>\n",
       "      <td>0.029158</td>\n",
       "      <td>0.008355</td>\n",
       "      <td>0.010867</td>\n",
       "      <td>0.005000</td>\n",
       "      <td>0.154145</td>\n",
       "    </tr>\n",
       "    <tr>\n",
       "      <th>4</th>\n",
       "      <td>5</td>\n",
       "      <td>A73EGS-P</td>\n",
       "      <td>5</td>\n",
       "      <td>0.034002</td>\n",
       "      <td>0.037921</td>\n",
       "      <td>0.003508</td>\n",
       "      <td>0.001008</td>\n",
       "      <td>0.003367</td>\n",
       "      <td>0.035204</td>\n",
       "      <td>0.001441</td>\n",
       "      <td>...</td>\n",
       "      <td>0.000128</td>\n",
       "      <td>0.003686</td>\n",
       "      <td>0.010599</td>\n",
       "      <td>0.010906</td>\n",
       "      <td>0.000332</td>\n",
       "      <td>0.029770</td>\n",
       "      <td>0.005357</td>\n",
       "      <td>0.003801</td>\n",
       "      <td>0.002513</td>\n",
       "      <td>0.300842</td>\n",
       "    </tr>\n",
       "    <tr>\n",
       "      <th>5</th>\n",
       "      <td>6</td>\n",
       "      <td>A73EGS-P</td>\n",
       "      <td>6</td>\n",
       "      <td>0.033999</td>\n",
       "      <td>0.036939</td>\n",
       "      <td>0.005765</td>\n",
       "      <td>0.000931</td>\n",
       "      <td>0.004145</td>\n",
       "      <td>0.035702</td>\n",
       "      <td>0.001824</td>\n",
       "      <td>...</td>\n",
       "      <td>0.000217</td>\n",
       "      <td>0.008087</td>\n",
       "      <td>0.011645</td>\n",
       "      <td>0.013559</td>\n",
       "      <td>0.000536</td>\n",
       "      <td>0.026964</td>\n",
       "      <td>0.006684</td>\n",
       "      <td>0.007003</td>\n",
       "      <td>0.002908</td>\n",
       "      <td>0.141097</td>\n",
       "    </tr>\n",
       "    <tr>\n",
       "      <th>6</th>\n",
       "      <td>7</td>\n",
       "      <td>A73EGS-P</td>\n",
       "      <td>7</td>\n",
       "      <td>0.030994</td>\n",
       "      <td>0.042079</td>\n",
       "      <td>0.004911</td>\n",
       "      <td>0.001365</td>\n",
       "      <td>0.004860</td>\n",
       "      <td>0.027474</td>\n",
       "      <td>0.001684</td>\n",
       "      <td>...</td>\n",
       "      <td>0.000332</td>\n",
       "      <td>0.004337</td>\n",
       "      <td>0.010893</td>\n",
       "      <td>0.011543</td>\n",
       "      <td>0.000663</td>\n",
       "      <td>0.025230</td>\n",
       "      <td>0.006594</td>\n",
       "      <td>0.004247</td>\n",
       "      <td>0.003610</td>\n",
       "      <td>0.268099</td>\n",
       "    </tr>\n",
       "    <tr>\n",
       "      <th>7</th>\n",
       "      <td>8</td>\n",
       "      <td>acanthaluteres_brownii</td>\n",
       "      <td>1</td>\n",
       "      <td>0.032000</td>\n",
       "      <td>0.009490</td>\n",
       "      <td>0.001327</td>\n",
       "      <td>0.000204</td>\n",
       "      <td>0.001658</td>\n",
       "      <td>0.028686</td>\n",
       "      <td>0.000663</td>\n",
       "      <td>...</td>\n",
       "      <td>0.000038</td>\n",
       "      <td>0.004209</td>\n",
       "      <td>0.015740</td>\n",
       "      <td>0.013393</td>\n",
       "      <td>0.000051</td>\n",
       "      <td>0.021084</td>\n",
       "      <td>0.004196</td>\n",
       "      <td>0.005638</td>\n",
       "      <td>0.000510</td>\n",
       "      <td>0.069069</td>\n",
       "    </tr>\n",
       "    <tr>\n",
       "      <th>8</th>\n",
       "      <td>9</td>\n",
       "      <td>acanthaluteres_brownii</td>\n",
       "      <td>2</td>\n",
       "      <td>0.040000</td>\n",
       "      <td>0.016926</td>\n",
       "      <td>0.002806</td>\n",
       "      <td>0.000268</td>\n",
       "      <td>0.001237</td>\n",
       "      <td>0.031301</td>\n",
       "      <td>0.001990</td>\n",
       "      <td>...</td>\n",
       "      <td>0.000089</td>\n",
       "      <td>0.007385</td>\n",
       "      <td>0.016135</td>\n",
       "      <td>0.012372</td>\n",
       "      <td>0.000204</td>\n",
       "      <td>0.026339</td>\n",
       "      <td>0.005089</td>\n",
       "      <td>0.009528</td>\n",
       "      <td>0.001327</td>\n",
       "      <td>0.152398</td>\n",
       "    </tr>\n",
       "    <tr>\n",
       "      <th>9</th>\n",
       "      <td>10</td>\n",
       "      <td>acanthaluteres_brownii</td>\n",
       "      <td>3</td>\n",
       "      <td>0.030005</td>\n",
       "      <td>0.015880</td>\n",
       "      <td>0.003584</td>\n",
       "      <td>0.000434</td>\n",
       "      <td>0.002589</td>\n",
       "      <td>0.025587</td>\n",
       "      <td>0.001250</td>\n",
       "      <td>...</td>\n",
       "      <td>0.000089</td>\n",
       "      <td>0.007232</td>\n",
       "      <td>0.012755</td>\n",
       "      <td>0.013240</td>\n",
       "      <td>0.000077</td>\n",
       "      <td>0.019911</td>\n",
       "      <td>0.006263</td>\n",
       "      <td>0.006786</td>\n",
       "      <td>0.002347</td>\n",
       "      <td>0.188750</td>\n",
       "    </tr>\n",
       "    <tr>\n",
       "      <th>10</th>\n",
       "      <td>11</td>\n",
       "      <td>acanthaluteres_brownii</td>\n",
       "      <td>4</td>\n",
       "      <td>0.036993</td>\n",
       "      <td>0.011429</td>\n",
       "      <td>0.001543</td>\n",
       "      <td>0.000153</td>\n",
       "      <td>0.001301</td>\n",
       "      <td>0.042041</td>\n",
       "      <td>0.000867</td>\n",
       "      <td>...</td>\n",
       "      <td>0.000013</td>\n",
       "      <td>0.004809</td>\n",
       "      <td>0.011071</td>\n",
       "      <td>0.015293</td>\n",
       "      <td>0.000051</td>\n",
       "      <td>0.033839</td>\n",
       "      <td>0.004694</td>\n",
       "      <td>0.005242</td>\n",
       "      <td>0.000612</td>\n",
       "      <td>0.073546</td>\n",
       "    </tr>\n",
       "    <tr>\n",
       "      <th>11</th>\n",
       "      <td>12</td>\n",
       "      <td>acanthaluteres_spilomelanurus</td>\n",
       "      <td>1</td>\n",
       "      <td>0.029998</td>\n",
       "      <td>0.037258</td>\n",
       "      <td>0.002972</td>\n",
       "      <td>0.000969</td>\n",
       "      <td>0.002398</td>\n",
       "      <td>0.037500</td>\n",
       "      <td>0.001224</td>\n",
       "      <td>...</td>\n",
       "      <td>0.000064</td>\n",
       "      <td>0.004235</td>\n",
       "      <td>0.008648</td>\n",
       "      <td>0.008291</td>\n",
       "      <td>0.000510</td>\n",
       "      <td>0.038163</td>\n",
       "      <td>0.003584</td>\n",
       "      <td>0.004579</td>\n",
       "      <td>0.002219</td>\n",
       "      <td>0.306008</td>\n",
       "    </tr>\n",
       "    <tr>\n",
       "      <th>12</th>\n",
       "      <td>13</td>\n",
       "      <td>acanthaluteres_spilomelanurus</td>\n",
       "      <td>2</td>\n",
       "      <td>0.035996</td>\n",
       "      <td>0.008852</td>\n",
       "      <td>0.001441</td>\n",
       "      <td>0.000064</td>\n",
       "      <td>0.001148</td>\n",
       "      <td>0.023151</td>\n",
       "      <td>0.001441</td>\n",
       "      <td>...</td>\n",
       "      <td>0.000051</td>\n",
       "      <td>0.005957</td>\n",
       "      <td>0.015982</td>\n",
       "      <td>0.014923</td>\n",
       "      <td>0.000077</td>\n",
       "      <td>0.016454</td>\n",
       "      <td>0.004949</td>\n",
       "      <td>0.005536</td>\n",
       "      <td>0.000816</td>\n",
       "      <td>0.059821</td>\n",
       "    </tr>\n",
       "    <tr>\n",
       "      <th>13</th>\n",
       "      <td>14</td>\n",
       "      <td>acanthaluteres_spilomelanurus</td>\n",
       "      <td>3</td>\n",
       "      <td>0.033000</td>\n",
       "      <td>0.003686</td>\n",
       "      <td>0.000829</td>\n",
       "      <td>0.000000</td>\n",
       "      <td>0.000217</td>\n",
       "      <td>0.018457</td>\n",
       "      <td>0.000421</td>\n",
       "      <td>...</td>\n",
       "      <td>0.000000</td>\n",
       "      <td>0.010485</td>\n",
       "      <td>0.013827</td>\n",
       "      <td>0.015332</td>\n",
       "      <td>0.000013</td>\n",
       "      <td>0.017781</td>\n",
       "      <td>0.006110</td>\n",
       "      <td>0.009528</td>\n",
       "      <td>0.000370</td>\n",
       "      <td>0.101161</td>\n",
       "    </tr>\n",
       "    <tr>\n",
       "      <th>14</th>\n",
       "      <td>15</td>\n",
       "      <td>acanthaluteres_vittiger</td>\n",
       "      <td>1</td>\n",
       "      <td>0.036997</td>\n",
       "      <td>0.018865</td>\n",
       "      <td>0.001837</td>\n",
       "      <td>0.000446</td>\n",
       "      <td>0.002143</td>\n",
       "      <td>0.044515</td>\n",
       "      <td>0.001110</td>\n",
       "      <td>...</td>\n",
       "      <td>0.000051</td>\n",
       "      <td>0.004566</td>\n",
       "      <td>0.012232</td>\n",
       "      <td>0.013967</td>\n",
       "      <td>0.000179</td>\n",
       "      <td>0.036492</td>\n",
       "      <td>0.004605</td>\n",
       "      <td>0.004936</td>\n",
       "      <td>0.001059</td>\n",
       "      <td>0.073240</td>\n",
       "    </tr>\n",
       "    <tr>\n",
       "      <th>15</th>\n",
       "      <td>16</td>\n",
       "      <td>acanthaluteres_vittiger</td>\n",
       "      <td>2</td>\n",
       "      <td>0.035998</td>\n",
       "      <td>0.022360</td>\n",
       "      <td>0.002513</td>\n",
       "      <td>0.000804</td>\n",
       "      <td>0.002219</td>\n",
       "      <td>0.027436</td>\n",
       "      <td>0.001020</td>\n",
       "      <td>...</td>\n",
       "      <td>0.000102</td>\n",
       "      <td>0.004184</td>\n",
       "      <td>0.012194</td>\n",
       "      <td>0.008980</td>\n",
       "      <td>0.000395</td>\n",
       "      <td>0.027423</td>\n",
       "      <td>0.003151</td>\n",
       "      <td>0.004184</td>\n",
       "      <td>0.001582</td>\n",
       "      <td>0.350395</td>\n",
       "    </tr>\n",
       "    <tr>\n",
       "      <th>16</th>\n",
       "      <td>17</td>\n",
       "      <td>acanthaluteres_vittiger</td>\n",
       "      <td>3</td>\n",
       "      <td>0.029999</td>\n",
       "      <td>0.006811</td>\n",
       "      <td>0.001429</td>\n",
       "      <td>0.000166</td>\n",
       "      <td>0.001199</td>\n",
       "      <td>0.018444</td>\n",
       "      <td>0.000702</td>\n",
       "      <td>...</td>\n",
       "      <td>0.000000</td>\n",
       "      <td>0.005370</td>\n",
       "      <td>0.017895</td>\n",
       "      <td>0.016620</td>\n",
       "      <td>0.000013</td>\n",
       "      <td>0.017207</td>\n",
       "      <td>0.005268</td>\n",
       "      <td>0.007054</td>\n",
       "      <td>0.000638</td>\n",
       "      <td>0.070000</td>\n",
       "    </tr>\n",
       "    <tr>\n",
       "      <th>17</th>\n",
       "      <td>18</td>\n",
       "      <td>acanthaluteres_vittiger</td>\n",
       "      <td>4</td>\n",
       "      <td>0.027997</td>\n",
       "      <td>0.029439</td>\n",
       "      <td>0.002423</td>\n",
       "      <td>0.000714</td>\n",
       "      <td>0.002602</td>\n",
       "      <td>0.035536</td>\n",
       "      <td>0.001352</td>\n",
       "      <td>...</td>\n",
       "      <td>0.000128</td>\n",
       "      <td>0.006110</td>\n",
       "      <td>0.015804</td>\n",
       "      <td>0.017041</td>\n",
       "      <td>0.000421</td>\n",
       "      <td>0.034656</td>\n",
       "      <td>0.007385</td>\n",
       "      <td>0.006760</td>\n",
       "      <td>0.001824</td>\n",
       "      <td>0.068584</td>\n",
       "    </tr>\n",
       "    <tr>\n",
       "      <th>18</th>\n",
       "      <td>19</td>\n",
       "      <td>acanthaluteres_vittiger</td>\n",
       "      <td>5</td>\n",
       "      <td>0.032996</td>\n",
       "      <td>0.006747</td>\n",
       "      <td>0.001658</td>\n",
       "      <td>0.000077</td>\n",
       "      <td>0.000855</td>\n",
       "      <td>0.013763</td>\n",
       "      <td>0.000689</td>\n",
       "      <td>...</td>\n",
       "      <td>0.000026</td>\n",
       "      <td>0.006607</td>\n",
       "      <td>0.011033</td>\n",
       "      <td>0.010128</td>\n",
       "      <td>0.000064</td>\n",
       "      <td>0.012334</td>\n",
       "      <td>0.003469</td>\n",
       "      <td>0.006569</td>\n",
       "      <td>0.000689</td>\n",
       "      <td>0.289196</td>\n",
       "    </tr>\n",
       "    <tr>\n",
       "      <th>19</th>\n",
       "      <td>20</td>\n",
       "      <td>acanthaluteres_vittiger</td>\n",
       "      <td>6</td>\n",
       "      <td>0.033003</td>\n",
       "      <td>0.012602</td>\n",
       "      <td>0.001594</td>\n",
       "      <td>0.000153</td>\n",
       "      <td>0.000957</td>\n",
       "      <td>0.036301</td>\n",
       "      <td>0.001327</td>\n",
       "      <td>...</td>\n",
       "      <td>0.000000</td>\n",
       "      <td>0.006237</td>\n",
       "      <td>0.011684</td>\n",
       "      <td>0.014082</td>\n",
       "      <td>0.000089</td>\n",
       "      <td>0.026684</td>\n",
       "      <td>0.004311</td>\n",
       "      <td>0.006071</td>\n",
       "      <td>0.000867</td>\n",
       "      <td>0.084707</td>\n",
       "    </tr>\n",
       "  </tbody>\n",
       "</table>\n",
       "<p>20 rows × 260 columns</p>\n",
       "</div>"
      ],
      "text/plain": [
       "    0                              1    2         3         4         5    \\\n",
       "0     1                       A73EGS-P    1  0.029996  0.051033  0.004477   \n",
       "1     2                       A73EGS-P    2  0.032996  0.054222  0.006582   \n",
       "2     3                       A73EGS-P    3  0.030999  0.032615  0.003571   \n",
       "3     4                       A73EGS-P    4  0.032999  0.060166  0.008686   \n",
       "4     5                       A73EGS-P    5  0.034002  0.037921  0.003508   \n",
       "5     6                       A73EGS-P    6  0.033999  0.036939  0.005765   \n",
       "6     7                       A73EGS-P    7  0.030994  0.042079  0.004911   \n",
       "7     8         acanthaluteres_brownii    1  0.032000  0.009490  0.001327   \n",
       "8     9         acanthaluteres_brownii    2  0.040000  0.016926  0.002806   \n",
       "9    10         acanthaluteres_brownii    3  0.030005  0.015880  0.003584   \n",
       "10   11         acanthaluteres_brownii    4  0.036993  0.011429  0.001543   \n",
       "11   12  acanthaluteres_spilomelanurus    1  0.029998  0.037258  0.002972   \n",
       "12   13  acanthaluteres_spilomelanurus    2  0.035996  0.008852  0.001441   \n",
       "13   14  acanthaluteres_spilomelanurus    3  0.033000  0.003686  0.000829   \n",
       "14   15        acanthaluteres_vittiger    1  0.036997  0.018865  0.001837   \n",
       "15   16        acanthaluteres_vittiger    2  0.035998  0.022360  0.002513   \n",
       "16   17        acanthaluteres_vittiger    3  0.029999  0.006811  0.001429   \n",
       "17   18        acanthaluteres_vittiger    4  0.027997  0.029439  0.002423   \n",
       "18   19        acanthaluteres_vittiger    5  0.032996  0.006747  0.001658   \n",
       "19   20        acanthaluteres_vittiger    6  0.033003  0.012602  0.001594   \n",
       "\n",
       "         6         7         8         9    ...       250       251       252  \\\n",
       "0   0.001441  0.004401  0.037168  0.002105  ...  0.000191  0.004796  0.009656   \n",
       "1   0.000778  0.002003  0.015242  0.002207  ...  0.000408  0.005791  0.001633   \n",
       "2   0.001173  0.002704  0.033903  0.002092  ...  0.000102  0.005651  0.007015   \n",
       "3   0.001952  0.004936  0.032615  0.002232  ...  0.000230  0.011824  0.008865   \n",
       "4   0.001008  0.003367  0.035204  0.001441  ...  0.000128  0.003686  0.010599   \n",
       "5   0.000931  0.004145  0.035702  0.001824  ...  0.000217  0.008087  0.011645   \n",
       "6   0.001365  0.004860  0.027474  0.001684  ...  0.000332  0.004337  0.010893   \n",
       "7   0.000204  0.001658  0.028686  0.000663  ...  0.000038  0.004209  0.015740   \n",
       "8   0.000268  0.001237  0.031301  0.001990  ...  0.000089  0.007385  0.016135   \n",
       "9   0.000434  0.002589  0.025587  0.001250  ...  0.000089  0.007232  0.012755   \n",
       "10  0.000153  0.001301  0.042041  0.000867  ...  0.000013  0.004809  0.011071   \n",
       "11  0.000969  0.002398  0.037500  0.001224  ...  0.000064  0.004235  0.008648   \n",
       "12  0.000064  0.001148  0.023151  0.001441  ...  0.000051  0.005957  0.015982   \n",
       "13  0.000000  0.000217  0.018457  0.000421  ...  0.000000  0.010485  0.013827   \n",
       "14  0.000446  0.002143  0.044515  0.001110  ...  0.000051  0.004566  0.012232   \n",
       "15  0.000804  0.002219  0.027436  0.001020  ...  0.000102  0.004184  0.012194   \n",
       "16  0.000166  0.001199  0.018444  0.000702  ...  0.000000  0.005370  0.017895   \n",
       "17  0.000714  0.002602  0.035536  0.001352  ...  0.000128  0.006110  0.015804   \n",
       "18  0.000077  0.000855  0.013763  0.000689  ...  0.000026  0.006607  0.011033   \n",
       "19  0.000153  0.000957  0.036301  0.001327  ...  0.000000  0.006237  0.011684   \n",
       "\n",
       "         253       254       255       256       257       258       259  \n",
       "0   0.009222  0.000867  0.033776  0.005344  0.004043  0.003010  0.276747  \n",
       "1   0.002640  0.000931  0.022054  0.002513  0.005867  0.003992  0.522372  \n",
       "2   0.006849  0.000676  0.032474  0.004209  0.005332  0.001901  0.317360  \n",
       "3   0.012985  0.000931  0.029158  0.008355  0.010867  0.005000  0.154145  \n",
       "4   0.010906  0.000332  0.029770  0.005357  0.003801  0.002513  0.300842  \n",
       "5   0.013559  0.000536  0.026964  0.006684  0.007003  0.002908  0.141097  \n",
       "6   0.011543  0.000663  0.025230  0.006594  0.004247  0.003610  0.268099  \n",
       "7   0.013393  0.000051  0.021084  0.004196  0.005638  0.000510  0.069069  \n",
       "8   0.012372  0.000204  0.026339  0.005089  0.009528  0.001327  0.152398  \n",
       "9   0.013240  0.000077  0.019911  0.006263  0.006786  0.002347  0.188750  \n",
       "10  0.015293  0.000051  0.033839  0.004694  0.005242  0.000612  0.073546  \n",
       "11  0.008291  0.000510  0.038163  0.003584  0.004579  0.002219  0.306008  \n",
       "12  0.014923  0.000077  0.016454  0.004949  0.005536  0.000816  0.059821  \n",
       "13  0.015332  0.000013  0.017781  0.006110  0.009528  0.000370  0.101161  \n",
       "14  0.013967  0.000179  0.036492  0.004605  0.004936  0.001059  0.073240  \n",
       "15  0.008980  0.000395  0.027423  0.003151  0.004184  0.001582  0.350395  \n",
       "16  0.016620  0.000013  0.017207  0.005268  0.007054  0.000638  0.070000  \n",
       "17  0.017041  0.000421  0.034656  0.007385  0.006760  0.001824  0.068584  \n",
       "18  0.010128  0.000064  0.012334  0.003469  0.006569  0.000689  0.289196  \n",
       "19  0.014082  0.000089  0.026684  0.004311  0.006071  0.000867  0.084707  \n",
       "\n",
       "[20 rows x 260 columns]"
      ]
     },
     "execution_count": 18,
     "metadata": {},
     "output_type": "execute_result"
    }
   ],
   "source": [
    "df = pd.read_csv(os.path.join(DATA_LBP_PATH,METHODS[METHOD_INDEX],METHODS[METHOD_INDEX]+'_dense.csv'), header=None)\n",
    "# df = pd.read_csv(os.path.join(DATA_HOG_PATH,'hog_fish.csv'), header=None)\n",
    "df = df.drop(df[df[1]=='gymnocranius_ microdon'].index)\n",
    "df.head(20)"
   ]
  },
  {
   "cell_type": "code",
   "execution_count": 6,
   "metadata": {},
   "outputs": [],
   "source": [
    "# df = df.groupby(1).filter(lambda x: len(x) > 20)\n",
    "# print(len(df[1].unique()))\n",
    "# s = df.groupby(1)[1].count()\n",
    "# for i in range(len(s)):\n",
    "#     print(i+1,s.index[i],s[i])"
   ]
  },
  {
   "cell_type": "code",
   "execution_count": 7,
   "metadata": {},
   "outputs": [],
   "source": [
    "# def get_species_name(x):\n",
    "#     tempn = x[1].split('_')\n",
    "#     return tempn[0]\n",
    "# df[3] = df.apply(lambda x: get_species_name(x), axis=1)\n",
    "# df.head()"
   ]
  },
  {
   "cell_type": "code",
   "execution_count": 8,
   "metadata": {},
   "outputs": [
    {
     "data": {
      "text/plain": [
       "483"
      ]
     },
     "execution_count": 8,
     "metadata": {},
     "output_type": "execute_result"
    }
   ],
   "source": [
    "\n",
    "COLUMN_CLASS = 1 #1\n",
    "len(df[COLUMN_CLASS].unique())"
   ]
  },
  {
   "cell_type": "code",
   "execution_count": 9,
   "metadata": {},
   "outputs": [
    {
     "data": {
      "text/plain": [
       "LabelBinarizer()"
      ]
     },
     "execution_count": 9,
     "metadata": {},
     "output_type": "execute_result"
    }
   ],
   "source": [
    "from sklearn import preprocessing\n",
    "lb = preprocessing.LabelBinarizer()\n",
    "lb.fit(df[COLUMN_CLASS].unique())"
   ]
  },
  {
   "cell_type": "code",
   "execution_count": 10,
   "metadata": {},
   "outputs": [
    {
     "data": {
      "text/plain": [
       "(4412, 483)"
      ]
     },
     "execution_count": 10,
     "metadata": {},
     "output_type": "execute_result"
    }
   ],
   "source": [
    "new_class = lb.transform(df[COLUMN_CLASS])\n",
    "new_class.shape"
   ]
  },
  {
   "cell_type": "code",
   "execution_count": 11,
   "metadata": {},
   "outputs": [],
   "source": [
    "index_input =[i for i in range(4,len(df.columns))]\n",
    "index_class = 'class_idx'\n",
    "index_combine = index_input.copy()\n",
    "index_combine.append(index_class)"
   ]
  },
  {
   "cell_type": "code",
   "execution_count": 12,
   "metadata": {},
   "outputs": [
    {
     "data": {
      "text/plain": [
       "array([[0.05103316, 0.00447704, 0.00144133, ..., 0.00404337, 0.0030102 ,\n",
       "        0.27674745],\n",
       "       [0.05422194, 0.00658163, 0.00077806, ..., 0.00586735, 0.00399235,\n",
       "        0.52237245],\n",
       "       [0.0326148 , 0.00357143, 0.00117347, ..., 0.00533163, 0.00190051,\n",
       "        0.31735969],\n",
       "       ...,\n",
       "       [0.02668367, 0.00434949, 0.00110969, ..., 0.00575255, 0.00320153,\n",
       "        0.23710459],\n",
       "       [0.03691327, 0.00376276, 0.00112245, ..., 0.00440051, 0.00260204,\n",
       "        0.07487245],\n",
       "       [0.06447704, 0.00843112, 0.00127551, ..., 0.00604592, 0.00502551,\n",
       "        0.37941327]])"
      ]
     },
     "execution_count": 12,
     "metadata": {},
     "output_type": "execute_result"
    }
   ],
   "source": [
    "df[index_input].to_numpy()"
   ]
  },
  {
   "cell_type": "code",
   "execution_count": 13,
   "metadata": {},
   "outputs": [],
   "source": [
    "from sklearn.neural_network import MLPClassifier\n",
    "from sklearn.datasets import make_classification\n",
    "from sklearn.model_selection import train_test_split"
   ]
  },
  {
   "cell_type": "code",
   "execution_count": 14,
   "metadata": {},
   "outputs": [],
   "source": [
    "X_train, X_test, y_train, y_test = train_test_split(df[index_input].copy().to_numpy(), new_class, \n",
    "                                                    test_size=0.3,random_state=1,stratify=new_class)"
   ]
  },
  {
   "cell_type": "code",
   "execution_count": 15,
   "metadata": {},
   "outputs": [
    {
     "name": "stderr",
     "output_type": "stream",
     "text": [
      "C:\\Program Files\\Python39\\lib\\site-packages\\sklearn\\neural_network\\_multilayer_perceptron.py:699: UserWarning: Training interrupted by user.\n",
      "  warnings.warn(\"Training interrupted by user.\")\n"
     ]
    }
   ],
   "source": [
    "clf = MLPClassifier(hidden_layer_sizes=(400,500,400,350,250),solver='adam',random_state=1,n_iter_no_change=100, max_iter=1000, learning_rate_init=0.001).fit(X_train, y_train)"
   ]
  },
  {
   "cell_type": "code",
   "execution_count": null,
   "metadata": {},
   "outputs": [],
   "source": [
    "import matplotlib.pyplot as plt\n"
   ]
  },
  {
   "cell_type": "code",
   "execution_count": null,
   "metadata": {},
   "outputs": [
    {
     "data": {
      "image/png": "[encoded data removed]",
      "text/plain": [
       "<Figure size 432x288 with 1 Axes>"
      ]
     },
     "metadata": {
      "needs_background": "light"
     },
     "output_type": "display_data"
    }
   ],
   "source": [
    "plt.plot(clf.loss_curve_, 'r')\n",
    "plt.show()"
   ]
  },
  {
   "cell_type": "code",
   "execution_count": null,
   "metadata": {},
   "outputs": [],
   "source": [
    "import pickle"
   ]
  },
  {
   "cell_type": "code",
   "execution_count": 196,
   "metadata": {},
   "outputs": [],
   "source": [
    "filename = 'model/lbp_11.sav'\n",
    "pickle.dump(clf, open(filename, 'wb'))"
   ]
  },
  {
   "cell_type": "code",
   "execution_count": 36,
   "metadata": {},
   "outputs": [
    {
     "data": {
      "text/plain": [
       "array([[5.89448752e-25, 2.20886024e-39, 2.96119701e-55, ...,\n",
       "        8.34214750e-17, 1.25200733e-62, 6.87776998e-26],\n",
       "       [2.25127609e-19, 1.49988206e-35, 5.81963171e-60, ...,\n",
       "        3.95917474e-18, 1.03966871e-62, 1.78156090e-26],\n",
       "       [7.31702877e-40, 5.77577811e-24, 3.11784894e-26, ...,\n",
       "        1.40792924e-36, 1.80146814e-39, 3.32437408e-31],\n",
       "       ...,\n",
       "       [5.42258722e-37, 2.41427029e-23, 8.85770401e-44, ...,\n",
       "        1.09410111e-21, 1.65291693e-47, 8.09450890e-35],\n",
       "       [4.83139068e-23, 3.12904251e-30, 5.43921627e-42, ...,\n",
       "        4.92251349e-15, 1.15694907e-41, 1.19063383e-32],\n",
       "       [2.35987795e-48, 4.45464539e-25, 1.10651712e-36, ...,\n",
       "        5.33141195e-44, 7.72108164e-63, 8.10323033e-47]])"
      ]
     },
     "execution_count": 36,
     "metadata": {},
     "output_type": "execute_result"
    }
   ],
   "source": [
    "clf.predict_proba(X_test)"
   ]
  },
  {
   "cell_type": "code",
   "execution_count": 37,
   "metadata": {},
   "outputs": [
    {
     "data": {
      "text/plain": [
       "array([[ -55.79060973,  -89.00834197, -125.55658653, ...,  -37.0226259 ,\n",
       "        -142.53552764,  -57.93891795],\n",
       "       [ -42.93761956,  -80.18509178, -136.3938686 , ...,  -40.07049607,\n",
       "        -142.72137366,  -59.28972253],\n",
       "       [ -90.11319938,  -53.50836925,  -58.7300691 , ...,  -82.55094335,\n",
       "         -89.21221666,  -70.17885647],\n",
       "       ...,\n",
       "       [ -83.50507539,  -52.07806006,  -99.1324565 , ...,  -48.26435383,\n",
       "        -107.7189578 ,  -78.49929234],\n",
       "       [ -51.38432279,  -67.93682574,  -95.01493892, ...,  -32.94495712,\n",
       "         -94.26020239,  -73.50823718],\n",
       "       [-109.66547456,  -56.07067986,  -82.791846  , ...,  -99.64012798,\n",
       "        -143.0189064 , -106.12923658]])"
      ]
     },
     "execution_count": 37,
     "metadata": {},
     "output_type": "execute_result"
    }
   ],
   "source": [
    "y_test_pred = clf.predict_log_proba(X_test)\n",
    "y_test_pred"
   ]
  },
  {
   "cell_type": "code",
   "execution_count": 197,
   "metadata": {},
   "outputs": [
    {
     "data": {
      "text/plain": [
       "0.03474320241691843"
      ]
     },
     "execution_count": 197,
     "metadata": {},
     "output_type": "execute_result"
    }
   ],
   "source": [
    "clf.score(X_test, y_test)"
   ]
  },
  {
   "cell_type": "code",
   "execution_count": 276,
   "metadata": {},
   "outputs": [
    {
     "data": {
      "text/plain": [
       "array([[-101.36914845,  -30.91893255, -112.43008255, ...,  -56.62187032,\n",
       "         -85.1369212 ,  -60.93743523],\n",
       "       [ -56.43189681,  -91.00623406,  -57.66884772, ...,  -69.39926109,\n",
       "         -94.36152306,  -28.07662864],\n",
       "       [ -85.47050291, -148.69056482, -158.97008042, ...,  -96.79556572,\n",
       "        -141.87303126,  -72.12904608],\n",
       "       ...,\n",
       "       [ -56.19869426,  -42.13766069,  -73.23624822, ...,  -73.76561471,\n",
       "         -37.80081151,  -75.95876039],\n",
       "       [ -71.82125124,  -11.53286377,  -43.53427004, ...,  -65.72517931,\n",
       "         -33.3184441 ,  -49.72562088],\n",
       "       [ -14.32818929,  -63.62059078,  -25.12426156, ...,  -61.92270735,\n",
       "         -55.06182513,  -38.98703825]])"
      ]
     },
     "execution_count": 276,
     "metadata": {},
     "output_type": "execute_result"
    }
   ],
   "source": [
    "clf.predict_log_proba(X_test)"
   ]
  },
  {
   "cell_type": "code",
   "execution_count": 253,
   "metadata": {},
   "outputs": [],
   "source": [
    "from sklearn.metrics import confusion_matrix"
   ]
  },
  {
   "cell_type": "code",
   "execution_count": 254,
   "metadata": {},
   "outputs": [
    {
     "data": {
      "text/plain": [
       "array([[0, 0, 0, ..., 0, 0, 0],\n",
       "       [0, 0, 0, ..., 0, 0, 0],\n",
       "       [0, 0, 0, ..., 0, 0, 0],\n",
       "       ...,\n",
       "       [0, 0, 0, ..., 0, 0, 0],\n",
       "       [0, 0, 0, ..., 0, 0, 0],\n",
       "       [0, 0, 0, ..., 0, 0, 1]], dtype=int64)"
      ]
     },
     "execution_count": 254,
     "metadata": {},
     "output_type": "execute_result"
    }
   ],
   "source": [
    "def accuracy(confusion_matrix):\n",
    "   diagonal_sum = confusion_matrix.trace()\n",
    "   sum_of_all_elements = confusion_matrix.sum()\n",
    "   return diagonal_sum / sum_of_all_elements\n",
    "cm = confusion_matrix(lb.inverse_transform(y_test_pred), lb.inverse_transform(y_test))\n",
    "cm"
   ]
  },
  {
   "cell_type": "code",
   "execution_count": 255,
   "metadata": {},
   "outputs": [
    {
     "data": {
      "text/plain": [
       "0.07636363636363637"
      ]
     },
     "execution_count": 255,
     "metadata": {},
     "output_type": "execute_result"
    }
   ],
   "source": [
    "acc = accuracy(cm)\n",
    "acc"
   ]
  },
  {
   "cell_type": "code",
   "execution_count": null,
   "metadata": {},
   "outputs": [],
   "source": []
  }
 ],
 "metadata": {
  "interpreter": {
   "hash": "ac59ebe37160ed0dfa835113d9b8498d9f09ceb179beaac4002f036b9467c963"
  },
  "kernelspec": {
   "display_name": "Python 3.9.9 64-bit",
   "language": "python",
   "name": "python3"
  },
  "language_info": {
   "codemirror_mode": {
    "name": "ipython",
    "version": 3
   },
   "file_extension": ".py",
   "mimetype": "text/x-python",
   "name": "python",
   "nbconvert_exporter": "python",
   "pygments_lexer": "ipython3",
   "version": "3.9.9"
  },
  "orig_nbformat": 4
 },
 "nbformat": 4,
 "nbformat_minor": 2
}

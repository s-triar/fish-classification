{
 "cells": [
  {
   "cell_type": "code",
   "execution_count": null,
   "metadata": {},
   "outputs": [],
   "source": [
    "import os\n",
    "import pandas as pd\n",
    "import numpy as np"
   ]
  },
  {
   "cell_type": "markdown",
   "metadata": {},
   "source": []
  },
  {
   "cell_type": "code",
   "execution_count": null,
   "metadata": {},
   "outputs": [],
   "source": [
    "\n",
    "# Declare available methods in local_binary_pattern\n",
    "# from https://scikit-image.org/docs/stable/api/skimage.feature.html#skimage.feature.local_binary_pattern\n",
    "METHODS = ['default', 'ror','uniform','nri_uniform','var']\n",
    "METHOD_INDEX = 0\n",
    "\n",
    "# Declare the path to data feature\n",
    "DATA_LBP_PATH = 'dataset/fish_data_lbp/resize/'\n",
    "DATA_HOG_PATH = 'dataset/fish_data_hog'\n",
    "# DATA_HL_PATH = 'dataset/fish_data_houghline'\n",
    "\n"
   ]
  },
  {
   "cell_type": "code",
   "execution_count": null,
   "metadata": {},
   "outputs": [],
   "source": [
    "# import the data feature into pandas\n",
    "\n",
    "# uncomment line below if using lbp\n",
    "df = pd.read_csv(os.path.join(DATA_LBP_PATH,METHODS[METHOD_INDEX],METHODS[METHOD_INDEX]+'_dense.csv'), header=None)\n",
    "\n",
    "# uncomment line below if using hog\n",
    "# df = pd.read_csv(os.path.join(DATA_HOG_PATH,'hog_fish.csv'), header=None)\n",
    "\n",
    "# for some reason there are typo for the class gymnocranius_ microdon\n",
    "# it needs to be removed so there are no duplicate data\n",
    "df = df.drop(df[df[1]=='gymnocranius_ microdon'].index)\n",
    "df.head()"
   ]
  },
  {
   "cell_type": "code",
   "execution_count": null,
   "metadata": {},
   "outputs": [],
   "source": [
    "# set the index column for the class and print the length\n",
    "COLUMN_CLASS = 1\n",
    "len(df[COLUMN_CLASS].unique())"
   ]
  },
  {
   "cell_type": "code",
   "execution_count": null,
   "metadata": {},
   "outputs": [],
   "source": [
    "# Processing One hot encoded for the class\n",
    "from sklearn import preprocessing\n",
    "lb = preprocessing.LabelBinarizer()\n",
    "lb.fit(df[COLUMN_CLASS].unique())\n",
    "new_class = lb.transform(df[COLUMN_CLASS])\n",
    "new_class.shape"
   ]
  },
  {
   "cell_type": "code",
   "execution_count": null,
   "metadata": {},
   "outputs": [],
   "source": [
    "# set list of column of features\n",
    "index_input =[i for i in range(4,len(df.columns))]"
   ]
  },
  {
   "cell_type": "code",
   "execution_count": null,
   "metadata": {},
   "outputs": [],
   "source": [
    "# import the MLP and train_test_split\n",
    "from sklearn.neural_network import MLPClassifier\n",
    "from sklearn.model_selection import train_test_split"
   ]
  },
  {
   "cell_type": "code",
   "execution_count": null,
   "metadata": {},
   "outputs": [],
   "source": [
    "# split the data into test and train data\n",
    "X_train, X_test, y_train, y_test = train_test_split(df[index_input].copy().to_numpy(), new_class, \n",
    "                                                    test_size=0.3,random_state=1,stratify=new_class)"
   ]
  },
  {
   "cell_type": "code",
   "execution_count": null,
   "metadata": {},
   "outputs": [],
   "source": [
    "# Make MLP model and fit (train) it\n",
    "clf = MLPClassifier(hidden_layer_sizes=(400,500,400,350,250),solver='adam',random_state=1,n_iter_no_change=100, max_iter=1000, learning_rate_init=0.001).fit(X_train, y_train)"
   ]
  },
  {
   "cell_type": "code",
   "execution_count": null,
   "metadata": {},
   "outputs": [],
   "source": [
    "# show the loss training in line diagram\n",
    "import matplotlib.pyplot as plt\n",
    "\n",
    "plt.plot(clf.loss_curve_, 'r')\n",
    "plt.show()"
   ]
  },
  {
   "cell_type": "code",
   "execution_count": null,
   "metadata": {},
   "outputs": [],
   "source": [
    "# save the model\n",
    "import pickle\n",
    "filename = 'model/lbp_11.sav'\n",
    "pickle.dump(clf, open(filename, 'wb'))"
   ]
  },
  {
   "cell_type": "code",
   "execution_count": null,
   "metadata": {},
   "outputs": [],
   "source": [
    "# test accuracy of the model using test data\n",
    "clf.score(X_test, y_test)"
   ]
  }
 ],
 "metadata": {
  "interpreter": {
   "hash": "ac59ebe37160ed0dfa835113d9b8498d9f09ceb179beaac4002f036b9467c963"
  },
  "kernelspec": {
   "display_name": "Python 3.9.9 64-bit",
   "language": "python",
   "name": "python3"
  },
  "language_info": {
   "codemirror_mode": {
    "name": "ipython",
    "version": 3
   },
   "file_extension": ".py",
   "mimetype": "text/x-python",
   "name": "python",
   "nbconvert_exporter": "python",
   "pygments_lexer": "ipython3",
   "version": "3.9.9"
  },
  "orig_nbformat": 4
 },
 "nbformat": 4,
 "nbformat_minor": 2
}

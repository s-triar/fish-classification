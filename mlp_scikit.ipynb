{
 "cells": [
  {
   "cell_type": "code",
   "execution_count": 1,
   "metadata": {},
   "outputs": [],
   "source": [
    "import os\n",
    "import pandas as pd\n",
    "import numpy as np"
   ]
  },
  {
   "cell_type": "markdown",
   "metadata": {},
   "source": []
  },
  {
   "cell_type": "code",
   "execution_count": 2,
   "metadata": {},
   "outputs": [],
   "source": [
    "\n",
    "# Declare available methods in local_binary_pattern\n",
    "# from https://scikit-image.org/docs/stable/api/skimage.feature.html#skimage.feature.local_binary_pattern\n",
    "METHODS = ['default', 'ror','uniform','nri_uniform','var']\n",
    "METHOD_INDEX = 0\n",
    "\n",
    "# Declare the path to data feature\n",
    "DATA_LBP_PATH = 'dataset/fish_data_lbp/resize/'\n",
    "DATA_HOG_PATH = 'dataset/fish_data_hog'\n",
    "# DATA_HL_PATH = 'dataset/fish_data_houghline'\n",
    "\n"
   ]
  },
  {
   "cell_type": "code",
   "execution_count": 3,
   "metadata": {},
   "outputs": [
    {
     "data": {
      "text/html": [
       "<div>\n",
       "<style scoped>\n",
       "    .dataframe tbody tr th:only-of-type {\n",
       "        vertical-align: middle;\n",
       "    }\n",
       "\n",
       "    .dataframe tbody tr th {\n",
       "        vertical-align: top;\n",
       "    }\n",
       "\n",
       "    .dataframe thead th {\n",
       "        text-align: right;\n",
       "    }\n",
       "</style>\n",
       "<table border=\"1\" class=\"dataframe\">\n",
       "  <thead>\n",
       "    <tr style=\"text-align: right;\">\n",
       "      <th></th>\n",
       "      <th>0</th>\n",
       "      <th>1</th>\n",
       "      <th>2</th>\n",
       "      <th>3</th>\n",
       "      <th>4</th>\n",
       "      <th>5</th>\n",
       "      <th>6</th>\n",
       "      <th>7</th>\n",
       "      <th>8</th>\n",
       "      <th>9</th>\n",
       "      <th>...</th>\n",
       "      <th>250</th>\n",
       "      <th>251</th>\n",
       "      <th>252</th>\n",
       "      <th>253</th>\n",
       "      <th>254</th>\n",
       "      <th>255</th>\n",
       "      <th>256</th>\n",
       "      <th>257</th>\n",
       "      <th>258</th>\n",
       "      <th>259</th>\n",
       "    </tr>\n",
       "  </thead>\n",
       "  <tbody>\n",
       "    <tr>\n",
       "      <th>0</th>\n",
       "      <td>1</td>\n",
       "      <td>A73EGS-P</td>\n",
       "      <td>1</td>\n",
       "      <td>0.029996</td>\n",
       "      <td>0.051033</td>\n",
       "      <td>0.004477</td>\n",
       "      <td>0.001441</td>\n",
       "      <td>0.004401</td>\n",
       "      <td>0.037168</td>\n",
       "      <td>0.002105</td>\n",
       "      <td>...</td>\n",
       "      <td>0.000191</td>\n",
       "      <td>0.004796</td>\n",
       "      <td>0.009656</td>\n",
       "      <td>0.009222</td>\n",
       "      <td>0.000867</td>\n",
       "      <td>0.033776</td>\n",
       "      <td>0.005344</td>\n",
       "      <td>0.004043</td>\n",
       "      <td>0.003010</td>\n",
       "      <td>0.276747</td>\n",
       "    </tr>\n",
       "    <tr>\n",
       "      <th>1</th>\n",
       "      <td>2</td>\n",
       "      <td>A73EGS-P</td>\n",
       "      <td>2</td>\n",
       "      <td>0.032996</td>\n",
       "      <td>0.054222</td>\n",
       "      <td>0.006582</td>\n",
       "      <td>0.000778</td>\n",
       "      <td>0.002003</td>\n",
       "      <td>0.015242</td>\n",
       "      <td>0.002207</td>\n",
       "      <td>...</td>\n",
       "      <td>0.000408</td>\n",
       "      <td>0.005791</td>\n",
       "      <td>0.001633</td>\n",
       "      <td>0.002640</td>\n",
       "      <td>0.000931</td>\n",
       "      <td>0.022054</td>\n",
       "      <td>0.002513</td>\n",
       "      <td>0.005867</td>\n",
       "      <td>0.003992</td>\n",
       "      <td>0.522372</td>\n",
       "    </tr>\n",
       "    <tr>\n",
       "      <th>2</th>\n",
       "      <td>3</td>\n",
       "      <td>A73EGS-P</td>\n",
       "      <td>3</td>\n",
       "      <td>0.030999</td>\n",
       "      <td>0.032615</td>\n",
       "      <td>0.003571</td>\n",
       "      <td>0.001173</td>\n",
       "      <td>0.002704</td>\n",
       "      <td>0.033903</td>\n",
       "      <td>0.002092</td>\n",
       "      <td>...</td>\n",
       "      <td>0.000102</td>\n",
       "      <td>0.005651</td>\n",
       "      <td>0.007015</td>\n",
       "      <td>0.006849</td>\n",
       "      <td>0.000676</td>\n",
       "      <td>0.032474</td>\n",
       "      <td>0.004209</td>\n",
       "      <td>0.005332</td>\n",
       "      <td>0.001901</td>\n",
       "      <td>0.317360</td>\n",
       "    </tr>\n",
       "    <tr>\n",
       "      <th>3</th>\n",
       "      <td>4</td>\n",
       "      <td>A73EGS-P</td>\n",
       "      <td>4</td>\n",
       "      <td>0.032999</td>\n",
       "      <td>0.060166</td>\n",
       "      <td>0.008686</td>\n",
       "      <td>0.001952</td>\n",
       "      <td>0.004936</td>\n",
       "      <td>0.032615</td>\n",
       "      <td>0.002232</td>\n",
       "      <td>...</td>\n",
       "      <td>0.000230</td>\n",
       "      <td>0.011824</td>\n",
       "      <td>0.008865</td>\n",
       "      <td>0.012985</td>\n",
       "      <td>0.000931</td>\n",
       "      <td>0.029158</td>\n",
       "      <td>0.008355</td>\n",
       "      <td>0.010867</td>\n",
       "      <td>0.005000</td>\n",
       "      <td>0.154145</td>\n",
       "    </tr>\n",
       "    <tr>\n",
       "      <th>4</th>\n",
       "      <td>5</td>\n",
       "      <td>A73EGS-P</td>\n",
       "      <td>5</td>\n",
       "      <td>0.034002</td>\n",
       "      <td>0.037921</td>\n",
       "      <td>0.003508</td>\n",
       "      <td>0.001008</td>\n",
       "      <td>0.003367</td>\n",
       "      <td>0.035204</td>\n",
       "      <td>0.001441</td>\n",
       "      <td>...</td>\n",
       "      <td>0.000128</td>\n",
       "      <td>0.003686</td>\n",
       "      <td>0.010599</td>\n",
       "      <td>0.010906</td>\n",
       "      <td>0.000332</td>\n",
       "      <td>0.029770</td>\n",
       "      <td>0.005357</td>\n",
       "      <td>0.003801</td>\n",
       "      <td>0.002513</td>\n",
       "      <td>0.300842</td>\n",
       "    </tr>\n",
       "  </tbody>\n",
       "</table>\n",
       "<p>5 rows × 260 columns</p>\n",
       "</div>"
      ],
      "text/plain": [
       "   0         1    2         3         4         5         6         7    \\\n",
       "0    1  A73EGS-P    1  0.029996  0.051033  0.004477  0.001441  0.004401   \n",
       "1    2  A73EGS-P    2  0.032996  0.054222  0.006582  0.000778  0.002003   \n",
       "2    3  A73EGS-P    3  0.030999  0.032615  0.003571  0.001173  0.002704   \n",
       "3    4  A73EGS-P    4  0.032999  0.060166  0.008686  0.001952  0.004936   \n",
       "4    5  A73EGS-P    5  0.034002  0.037921  0.003508  0.001008  0.003367   \n",
       "\n",
       "        8         9    ...       250       251       252       253       254  \\\n",
       "0  0.037168  0.002105  ...  0.000191  0.004796  0.009656  0.009222  0.000867   \n",
       "1  0.015242  0.002207  ...  0.000408  0.005791  0.001633  0.002640  0.000931   \n",
       "2  0.033903  0.002092  ...  0.000102  0.005651  0.007015  0.006849  0.000676   \n",
       "3  0.032615  0.002232  ...  0.000230  0.011824  0.008865  0.012985  0.000931   \n",
       "4  0.035204  0.001441  ...  0.000128  0.003686  0.010599  0.010906  0.000332   \n",
       "\n",
       "        255       256       257       258       259  \n",
       "0  0.033776  0.005344  0.004043  0.003010  0.276747  \n",
       "1  0.022054  0.002513  0.005867  0.003992  0.522372  \n",
       "2  0.032474  0.004209  0.005332  0.001901  0.317360  \n",
       "3  0.029158  0.008355  0.010867  0.005000  0.154145  \n",
       "4  0.029770  0.005357  0.003801  0.002513  0.300842  \n",
       "\n",
       "[5 rows x 260 columns]"
      ]
     },
     "execution_count": 3,
     "metadata": {},
     "output_type": "execute_result"
    }
   ],
   "source": [
    "# import the data feature into pandas\n",
    "\n",
    "# uncomment line below if using lbp\n",
    "df = pd.read_csv(os.path.join(DATA_LBP_PATH,METHODS[METHOD_INDEX],METHODS[METHOD_INDEX]+'_dense.csv'), header=None)\n",
    "\n",
    "# uncomment line below if using hog\n",
    "# df = pd.read_csv(os.path.join(DATA_HOG_PATH,'hog_fish.csv'), header=None)\n",
    "\n",
    "# for some reason there are typo for the class gymnocranius_ microdon\n",
    "# it needs to be removed so there are no duplicate data\n",
    "df = df.drop(df[df[1]=='gymnocranius_ microdon'].index)\n",
    "df.head()"
   ]
  },
  {
   "cell_type": "code",
   "execution_count": 7,
   "metadata": {},
   "outputs": [
    {
     "data": {
      "text/plain": [
       "1\n",
       "A73EGS-P                    7\n",
       "CUNWCB-Y                    9\n",
       "Istiophorus_platypterus     6\n",
       "P1ROZC-Z                   17\n",
       "PQV7DP-S                    7\n",
       "Name: 0, dtype: int64"
      ]
     },
     "execution_count": 7,
     "metadata": {},
     "output_type": "execute_result"
    }
   ],
   "source": [
    "dfg = df.groupby(df[1])[0].count()\n",
    "dfg.head()"
   ]
  },
  {
   "cell_type": "code",
   "execution_count": null,
   "metadata": {},
   "outputs": [],
   "source": [
    "# set the index column for the class and print the length\n",
    "COLUMN_CLASS = 1\n",
    "len(df[COLUMN_CLASS].unique())"
   ]
  },
  {
   "cell_type": "code",
   "execution_count": null,
   "metadata": {},
   "outputs": [],
   "source": [
    "# Processing One hot encoded for the class\n",
    "from sklearn import preprocessing\n",
    "lb = preprocessing.LabelBinarizer()\n",
    "lb.fit(df[COLUMN_CLASS].unique())\n",
    "new_class = lb.transform(df[COLUMN_CLASS])\n",
    "new_class.shape"
   ]
  },
  {
   "cell_type": "code",
   "execution_count": null,
   "metadata": {},
   "outputs": [],
   "source": [
    "# set list of column of features\n",
    "index_input =[i for i in range(4,len(df.columns))]"
   ]
  },
  {
   "cell_type": "code",
   "execution_count": null,
   "metadata": {},
   "outputs": [],
   "source": [
    "# import the MLP and train_test_split\n",
    "from sklearn.neural_network import MLPClassifier\n",
    "from sklearn.model_selection import train_test_split"
   ]
  },
  {
   "cell_type": "code",
   "execution_count": null,
   "metadata": {},
   "outputs": [],
   "source": [
    "# split the data into test and train data\n",
    "X_train, X_test, y_train, y_test = train_test_split(df[index_input].copy().to_numpy(), new_class, \n",
    "                                                    test_size=0.3,random_state=1,stratify=new_class)"
   ]
  },
  {
   "cell_type": "code",
   "execution_count": null,
   "metadata": {},
   "outputs": [],
   "source": [
    "# Make MLP model and fit (train) it\n",
    "clf = MLPClassifier(hidden_layer_sizes=(400,500,400,350,250),solver='adam',random_state=1,n_iter_no_change=100, max_iter=1000, learning_rate_init=0.001).fit(X_train, y_train)"
   ]
  },
  {
   "cell_type": "code",
   "execution_count": null,
   "metadata": {},
   "outputs": [],
   "source": [
    "# show the loss training in line diagram\n",
    "import matplotlib.pyplot as plt\n",
    "\n",
    "plt.plot(clf.loss_curve_, 'r')\n",
    "plt.show()"
   ]
  },
  {
   "cell_type": "code",
   "execution_count": null,
   "metadata": {},
   "outputs": [],
   "source": [
    "# save the model\n",
    "import pickle\n",
    "filename = 'model/lbp_11.sav'\n",
    "pickle.dump(clf, open(filename, 'wb'))"
   ]
  },
  {
   "cell_type": "code",
   "execution_count": null,
   "metadata": {},
   "outputs": [],
   "source": [
    "# test accuracy of the model using test data\n",
    "clf.score(X_test, y_test)"
   ]
  }
 ],
 "metadata": {
  "interpreter": {
   "hash": "ac59ebe37160ed0dfa835113d9b8498d9f09ceb179beaac4002f036b9467c963"
  },
  "kernelspec": {
   "display_name": "Python 3.9.9 64-bit",
   "language": "python",
   "name": "python3"
  },
  "language_info": {
   "codemirror_mode": {
    "name": "ipython",
    "version": 3
   },
   "file_extension": ".py",
   "mimetype": "text/x-python",
   "name": "python",
   "nbconvert_exporter": "python",
   "pygments_lexer": "ipython3",
   "version": "3.9.9"
  },
  "orig_nbformat": 4
 },
 "nbformat": 4,
 "nbformat_minor": 2
}

{
 "cells": [
  {
   "cell_type": "code",
   "execution_count": null,
   "metadata": {},
   "outputs": [],
   "source": [
    "import os"
   ]
  },
  {
   "cell_type": "code",
   "execution_count": null,
   "metadata": {},
   "outputs": [],
   "source": [
    "import pandas as pd"
   ]
  },
  {
   "cell_type": "code",
   "execution_count": null,
   "metadata": {},
   "outputs": [],
   "source": [
    "METHODS = ['default', 'ror','uniform','nri_uniform','var']\n",
    "DATA_LBP_PATH = 'dataset/fish_data_lbp/resize/'"
   ]
  },
  {
   "cell_type": "code",
   "execution_count": null,
   "metadata": {},
   "outputs": [],
   "source": [
    "METHOD_INDEX = 4\n",
    "df = pd.read_csv(os.path.join(DATA_LBP_PATH,METHODS[METHOD_INDEX],METHODS[METHOD_INDEX]+'_dense_radius_is_3.csv'), header=None)\n",
    "df.head(20)"
   ]
  },
  {
   "cell_type": "code",
   "execution_count": null,
   "metadata": {},
   "outputs": [],
   "source": [
    "from sklearn import preprocessing\n",
    "lb = preprocessing.LabelEncoder()\n",
    "lb.fit(df[1].unique())"
   ]
  },
  {
   "cell_type": "code",
   "execution_count": null,
   "metadata": {},
   "outputs": [],
   "source": [
    "new_class = lb.transform(df[1])\n",
    "new_class\n",
    "# df.head()\n"
   ]
  },
  {
   "cell_type": "code",
   "execution_count": null,
   "metadata": {},
   "outputs": [],
   "source": [
    "# from sklearn.datasets import make_classification\n",
    "from sklearn.model_selection import train_test_split"
   ]
  },
  {
   "cell_type": "code",
   "execution_count": null,
   "metadata": {},
   "outputs": [],
   "source": [
    "index_input =[i for i in range(4,260)]\n",
    "X_train, X_test, y_train, y_test = train_test_split(df[index_input].copy().to_numpy(), new_class, \n",
    "                                                    test_size=0.333,random_state=1)"
   ]
  },
  {
   "cell_type": "code",
   "execution_count": null,
   "metadata": {},
   "outputs": [],
   "source": [
    "y_test"
   ]
  },
  {
   "cell_type": "code",
   "execution_count": null,
   "metadata": {},
   "outputs": [],
   "source": [
    "import torch as tr\n",
    "import torch.nn as tr_nn\n",
    "import torch.nn.functional as tr_fn\n",
    "import torch.optim as tr_optim\n",
    "# import torchvision\n",
    "# import torchvision.transforms as tr_transforms\n"
   ]
  },
  {
   "cell_type": "code",
   "execution_count": null,
   "metadata": {},
   "outputs": [],
   "source": [
    "device = 'cpu'\n",
    "if(tr.cuda.is_available()):\n",
    "    device = tr.device('cuda')    \n",
    "print(device)\n"
   ]
  },
  {
   "cell_type": "code",
   "execution_count": null,
   "metadata": {},
   "outputs": [],
   "source": [
    "# x_test_tr = tr.from_numpy(X_test).view(X_test.shape[0],256,1).type(tr.float).to(device)\n",
    "# x_train_tr = tr.from_numpy(X_train).view(X_train.shape[0],256,1).type(tr.float).to(device)\n",
    "# y_test_tr = tr.from_numpy(y_test).view(-1,1).type(tr.float).to(device)\n",
    "# y_train_tr = tr.from_numpy(y_train).view(-1,1).type(tr.float).to(device)\n",
    "# print(x_train_tr.shape, y_train_tr)\n",
    "\n",
    "x_test_tr = tr.randn(X_test.shape[0], 20)\n",
    "x_train_tr = tr.randn(X_train.shape[0], 20)\n",
    "y_test_tr = tr.from_numpy(y_test).view(-1,1).type(tr.float)\n",
    "y_train_tr = tr.from_numpy(y_train).view(-1,1).type(tr.float)\n",
    "print(x_train_tr.shape)"
   ]
  },
  {
   "cell_type": "code",
   "execution_count": null,
   "metadata": {},
   "outputs": [],
   "source": [
    "import math\n",
    "batch_size = 300\n",
    "rows_size = X_train.shape[0]\n",
    "batch_rows = rows_size/batch_size\n",
    "print(batch_rows)\n",
    "batch_epoch = math.ceil(batch_rows)\n",
    "print(batch_epoch)"
   ]
  },
  {
   "cell_type": "code",
   "execution_count": null,
   "metadata": {},
   "outputs": [],
   "source": [
    "class Net(tr_nn.Module):\n",
    "    def __init__(self):\n",
    "        super(Net, self).__init__()\n",
    "        self.conv1 = tr_nn.Linear(20, 500)\n",
    "        self.pool = tr_nn.MaxPool1d(1, 2)\n",
    "        self.conv2 = tr_nn.Linear(500, 326)\n",
    "        self.fc1 = tr_nn.Linear(326, 120)\n",
    "        self.fc2 = tr_nn.Linear(120, 84)\n",
    "        self.fc3 = tr_nn.Linear(84, 1)\n",
    "\n",
    "    def forward(self, x):\n",
    "        x = self.conv1(x)\n",
    "        x = self.conv2(x)\n",
    "        # x = tr.flatten(x, 1) # flatten all dimensions except batch\n",
    "        x = self.fc1(x)\n",
    "        x = self.fc2(x)\n",
    "        x = self.fc3(x)\n",
    "        return x\n"
   ]
  },
  {
   "cell_type": "code",
   "execution_count": null,
   "metadata": {},
   "outputs": [],
   "source": [
    "model = Net().to(device)\n",
    "model"
   ]
  },
  {
   "cell_type": "code",
   "execution_count": null,
   "metadata": {},
   "outputs": [],
   "source": [
    "\n",
    "# criterion = tr_nn.BCELoss()\n",
    "# optimizer = tr_optim.Adam(model.parameters(), lr=0.001)\n",
    "criterion = tr_nn.CrossEntropyLoss()\n",
    "optimizer = tr_optim.SGD(model.parameters(), lr=0.001, momentum=0.9)"
   ]
  },
  {
   "cell_type": "code",
   "execution_count": null,
   "metadata": {},
   "outputs": [],
   "source": [
    "\n",
    "\n",
    "for epoch in range(2000):  # loop over the dataset multiple times\n",
    "    running_loss = 0.0\n",
    "    for i in range(0,batch_epoch):\n",
    "        # get the inputs; data is a list of [inputs, labels]\n",
    "        endp = (i+1)*batch_size\n",
    "        inputs = x_train_tr[i*batch_size:endp if endp < rows_size else rows_size,:]\n",
    "        labels = y_train_tr [i*batch_size:endp if endp < rows_size else rows_size]\n",
    "        labels = labels.to(device)\n",
    "        inputs = inputs.to(device)\n",
    "        # zero the parameter gradients\n",
    "        optimizer.zero_grad()\n",
    "        \n",
    "        # forward + backward + optimize\n",
    "        outputs = model(inputs)\n",
    "        loss = criterion(outputs, labels)\n",
    "        loss.backward()\n",
    "        optimizer.step()\n",
    "\n",
    "        # # print statistics\n",
    "        running_loss += loss.item()\n",
    "        if epoch % 10 == 0:    # print every 2000 mini-batches\n",
    "            print(outputs[0],labels[0])\n",
    "            print(f'[{epoch + 1}, {i + 1:5d}] loss: {running_loss:.3f}')\n",
    "        running_loss = 0.0\n",
    "    \n",
    "    \n",
    "    \n",
    "print('Finished Training')"
   ]
  },
  {
   "cell_type": "code",
   "execution_count": null,
   "metadata": {},
   "outputs": [],
   "source": [
    "with tr.no_grad():\n",
    "    y_pr = model(x_test_tr)\n",
    "    y_pr_class = y_pr.round()\n",
    "    acc = y_pr_class.eq(y_test_tr).sum()/float(y_test_tr.shape[0])\n",
    "    # for i in range(0,y_pr_class.shape[0]):\n",
    "    #     print(y_pr_class[i],y_test_tr[i])\n",
    "    print(\"acc\", acc)"
   ]
  },
  {
   "cell_type": "code",
   "execution_count": null,
   "metadata": {},
   "outputs": [],
   "source": [
    "conv1 = tr_nn.Conv1d(256, 200, 1)\n",
    "pool = tr_nn.MaxPool1d(1)\n",
    "conv2 = tr_nn.Conv1d(200, 16, 1)\n",
    "fc1 = tr_nn.Linear(16, 120)\n",
    "fc2 = tr_nn.Linear(120, 84)\n",
    "fc3 = tr_nn.Linear(84, 10)\n",
    "\n",
    "def tt(x):\n",
    "    x = pool(tr_fn.relu(conv1(x)))\n",
    "    x = pool(tr_fn.relu(conv2(x)))\n",
    "    x = tr.flatten(x, 1) # flatten all dimensions except batch\n",
    "    x = tr_fn.relu(fc1(x))\n",
    "    x = tr_fn.relu(fc2(x))\n",
    "    x = fc3(x)\n",
    "    return x\n",
    "# input = tr.randn(20, 15, 50)\n",
    "# print(input[2].shape)\n",
    "# print(m)\n",
    "yyy = x_test_tr[i*batch_size:(i+1)*batch_size,:]\n",
    "output = tt(yyy)\n",
    "output"
   ]
  },
  {
   "cell_type": "code",
   "execution_count": null,
   "metadata": {},
   "outputs": [],
   "source": []
  }
 ],
 "metadata": {
  "interpreter": {
   "hash": "ac59ebe37160ed0dfa835113d9b8498d9f09ceb179beaac4002f036b9467c963"
  },
  "kernelspec": {
   "display_name": "Python 3.9.9 64-bit",
   "language": "python",
   "name": "python3"
  },
  "language_info": {
   "codemirror_mode": {
    "name": "ipython",
    "version": 3
   },
   "file_extension": ".py",
   "mimetype": "text/x-python",
   "name": "python",
   "nbconvert_exporter": "python",
   "pygments_lexer": "ipython3",
   "version": "3.9.9"
  },
  "orig_nbformat": 4
 },
 "nbformat": 4,
 "nbformat_minor": 2
}
